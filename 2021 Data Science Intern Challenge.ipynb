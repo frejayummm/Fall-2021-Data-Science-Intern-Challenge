{
 "cells": [
  {
   "cell_type": "code",
   "execution_count": 1,
   "id": "color-platform",
   "metadata": {},
   "outputs": [],
   "source": [
    "import numpy as np\n",
    "import pandas as pd\n",
    "from scipy import stats\n",
    "\n",
    "df = pd.read_csv(r\"C:\\Users\\freja\\Downloads\\2019 Winter Data Science Intern Challenge Data Set.csv\")"
   ]
  },
  {
   "cell_type": "code",
   "execution_count": 2,
   "id": "annual-glasgow",
   "metadata": {},
   "outputs": [
    {
     "name": "stdout",
     "output_type": "stream",
     "text": [
      "count      5000.000000\n",
      "mean       3145.128000\n",
      "std       41282.539349\n",
      "min          90.000000\n",
      "25%         163.000000\n",
      "50%         284.000000\n",
      "75%         390.000000\n",
      "max      704000.000000\n",
      "Name: order_amount, dtype: float64\n"
     ]
    }
   ],
   "source": [
    "#a. First of all, we need to take a look of the outliers of the dataset.\n",
    "df = df.dropna()\n",
    "order=df[\"order_amount\"].describe()\n",
    "print(order)\n",
    "df1=df[\"order_amount\"]"
   ]
  },
  {
   "cell_type": "code",
   "execution_count": 3,
   "id": "specific-hello",
   "metadata": {},
   "outputs": [
    {
     "name": "stdout",
     "output_type": "stream",
     "text": [
      "      order_id  shop_id  user_id  order_amount  total_items payment_method  \\\n",
      "60          61       42      607        704000         2000    credit_card   \n",
      "2835      2836       42      607        704000         2000    credit_card   \n",
      "2969      2970       42      607        704000         2000    credit_card   \n",
      "3332      3333       42      607        704000         2000    credit_card   \n",
      "2297      2298       42      607        704000         2000    credit_card   \n",
      "...        ...      ...      ...           ...          ...            ...   \n",
      "3488      3489       10      994           296            2    credit_card   \n",
      "3090      3091       93      996           228            2    credit_card   \n",
      "4300      4301       68      999           136            1    credit_card   \n",
      "4230      4231       87      999           298            2          debit   \n",
      "3964      3965       33      999           173            1    credit_card   \n",
      "\n",
      "               created_at  \n",
      "60     2017-03-04 4:00:00  \n",
      "2835   2017-03-28 4:00:00  \n",
      "2969   2017-03-28 4:00:00  \n",
      "3332   2017-03-24 4:00:00  \n",
      "2297   2017-03-07 4:00:00  \n",
      "...                   ...  \n",
      "3488  2017-03-13 14:51:13  \n",
      "3090  2017-03-24 13:57:26  \n",
      "4300  2017-03-20 16:58:46  \n",
      "4230  2017-03-13 21:35:36  \n",
      "3964  2017-03-27 17:46:58  \n",
      "\n",
      "[293 rows x 7 columns]\n"
     ]
    },
    {
     "name": "stderr",
     "output_type": "stream",
     "text": [
      "C:\\Users\\freja\\Anaconda3\\lib\\site-packages\\ipykernel_launcher.py:2: SettingWithCopyWarning: \n",
      "A value is trying to be set on a copy of a slice from a DataFrame\n",
      "\n",
      "See the caveats in the documentation: https://pandas.pydata.org/pandas-docs/stable/user_guide/indexing.html#returning-a-view-versus-a-copy\n",
      "  \n"
     ]
    }
   ],
   "source": [
    "df_dup=df[df.duplicated([\"user_id\",\"order_amount\"])]\n",
    "df_dup.sort_values(by=[\"user_id\"],inplace=True)\n",
    "print(df_dup)\n",
    "df_dup.to_csv(r\"C:\\Users\\freja\\Downloads\\dup.csv\")\n",
    "#it appears the order amount and the user id are the same at the same time of the day.\n",
    "#We could consider this buyer as a reseller and to better evaluate the dataset, we might need to get rid of this userid607."
   ]
  },
  {
   "cell_type": "code",
   "execution_count": 5,
   "id": "frank-length",
   "metadata": {},
   "outputs": [
    {
     "data": {
      "text/plain": [
       "<AxesSubplot:>"
      ]
     },
     "execution_count": 5,
     "metadata": {},
     "output_type": "execute_result"
    },
    {
     "data": {
      "image/png": "[encoded data removed]",
      "text/plain": [
       "<Figure size 432x288 with 1 Axes>"
      ]
     },
     "metadata": {
      "needs_background": "light"
     },
     "output_type": "display_data"
    }
   ],
   "source": [
    "df.boxplot(column=\"order_amount\")"
   ]
  },
  {
   "cell_type": "code",
   "execution_count": 9,
   "id": "false-filling",
   "metadata": {},
   "outputs": [
    {
     "data": {
      "text/plain": [
       "227.0"
      ]
     },
     "execution_count": 9,
     "metadata": {},
     "output_type": "execute_result"
    }
   ],
   "source": [
    "IQR = stats.iqr(df1,interpolation='midpoint')\n",
    "IQR"
   ]
  },
  {
   "cell_type": "code",
   "execution_count": 10,
   "id": "painful-queen",
   "metadata": {},
   "outputs": [
    {
     "name": "stdout",
     "output_type": "stream",
     "text": [
      "The lower bound of dataset is  -177.5\n",
      "The upper bound of dataset is  730.5\n",
      " outlier in the dataset is [704000, 704000, 780, 765, 25725, 780, 765, 780, 780, 51450, 51450, 51450, 704000, 830, 51450, 748, 154350, 772, 804, 815, 885, 1056, 784, 25725, 704000, 815, 885, 25725, 25725, 935, 77175, 704000, 1760, 1408, 25725, 25725, 704000, 25725, 1408, 765, 736, 51450, 704000, 960, 704000, 800, 804, 800, 865, 745, 830, 880, 920, 765, 774, 790, 784, 704000, 25725, 704000, 948, 845, 760, 745, 51450, 102900, 965, 51450, 51450, 25725, 935, 77175, 780, 77175, 805, 25725, 51450, 51450, 704000, 77175, 25725, 830, 704000, 1056, 890, 980, 25725, 51450, 760, 25725, 51450, 748, 786, 704000, 77175, 736, 805, 25725, 1056, 736, 935, 1086, 736, 51450, 77175, 25725, 816, 810, 740, 25725, 704000, 51450, 1064, 77175, 780, 51450, 51450, 77175, 735, 25725, 760, 880, 780, 748, 748, 25725, 748, 800, 704000, 780, 77175, 960, 704000, 790, 704000, 760, 25725, 765, 880, 865, 772]\n"
     ]
    }
   ],
   "source": [
    "Q1 = np.percentile(df1, 25, interpolation = 'midpoint')\n",
    "Q3 = np.percentile(df1, 75, interpolation = 'midpoint')\n",
    "lower_limit=Q1-1.5*IQR\n",
    "upper_limit=Q3+1.5*IQR\n",
    "print(\"The lower bound of dataset is \", lower_limit)\n",
    "print(\"The upper bound of dataset is \", upper_limit)\n",
    "outlier =[]\n",
    "for x in df1:\n",
    "    if ((x> upper_limit) or (x<lower_limit)):\n",
    "         outlier.append(x)\n",
    "print(' outlier in the dataset is', outlier)"
   ]
  },
  {
   "cell_type": "code",
   "execution_count": 11,
   "id": "visible-sunday",
   "metadata": {},
   "outputs": [
    {
     "data": {
      "text/plain": [
       "293.7153735336489"
      ]
     },
     "execution_count": 11,
     "metadata": {},
     "output_type": "execute_result"
    }
   ],
   "source": [
    "#b. we could use the median of the dataset to evaluate the data. Since some values are too faraway from the average of order amount. \n",
    "df2 = df[df.order_amount<730.5]\n",
    "df2.order_amount.mean()\n",
    "#c. The value is 293.715. "
   ]
  },
  {
   "cell_type": "code",
   "execution_count": null,
   "id": "confident-coordinate",
   "metadata": {},
   "outputs": [],
   "source": []
  }
 ],
 "metadata": {
  "kernelspec": {
   "display_name": "Python 3",
   "language": "python",
   "name": "python3"
  },
  "language_info": {
   "codemirror_mode": {
    "name": "ipython",
    "version": 3
   },
   "file_extension": ".py",
   "mimetype": "text/x-python",
   "name": "python",
   "nbconvert_exporter": "python",
   "pygments_lexer": "ipython3",
   "version": "3.7.3"
  }
 },
 "nbformat": 4,
 "nbformat_minor": 5
}
